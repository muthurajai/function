{
 "cells": [
  {
   "cell_type": "code",
   "execution_count": 2,
   "id": "d1b67f6d",
   "metadata": {},
   "outputs": [],
   "source": [
    "\n",
    "def subfields():\n",
    "    print(\"sub_fields in AI are:\")\n",
    "    list=[\"mechine learning\",\"vision\",\"neural network\",\"robotics\",\"speech processing\",\"natural language processing\"]\n",
    "    for ai in list:\n",
    "        print(ai)\n",
    "    \n",
    "\n",
    "    "
   ]
  },
  {
   "cell_type": "code",
   "execution_count": 3,
   "id": "d2448004",
   "metadata": {},
   "outputs": [
    {
     "name": "stdout",
     "output_type": "stream",
     "text": [
      "sub_fields in AI are:\n",
      "mechine learning\n",
      "vision\n",
      "neural network\n",
      "robotics\n",
      "speech processing\n",
      "natural language processing\n"
     ]
    }
   ],
   "source": [
    "subfields()"
   ]
  },
  {
   "cell_type": "code",
   "execution_count": 10,
   "id": "7079fc38",
   "metadata": {},
   "outputs": [],
   "source": [
    "def oddeven():\n",
    "    num=int(input(\"enter a number:\"))\n",
    "    if(num%2)==1:\n",
    "        print(num,end=\"is odd number\")\n",
    "        message=\"odd number\"\n",
    "    else:\n",
    "        print(num,end=\" is even number\")\n",
    "        message=\"even number\"\n",
    "    return message"
   ]
  },
  {
   "cell_type": "code",
   "execution_count": 11,
   "id": "c4726f24",
   "metadata": {},
   "outputs": [
    {
     "name": "stdout",
     "output_type": "stream",
     "text": [
      "enter a number:42452\n",
      "42452 is even number"
     ]
    },
    {
     "data": {
      "text/plain": [
       "'even number'"
      ]
     },
     "execution_count": 11,
     "metadata": {},
     "output_type": "execute_result"
    }
   ],
   "source": [
    "oddeven()"
   ]
  },
  {
   "cell_type": "code",
   "execution_count": 10,
   "id": "8bee5806",
   "metadata": {},
   "outputs": [],
   "source": [
    "def eligible():\n",
    "    gender=input(\"enter your gender:\")\n",
    "    age=int(input(\"enter your age:\"))\n",
    "    if(gender in (\"male\",\"m\")):\n",
    "        if(age>=21):\n",
    "            print(\"your eligible\")\n",
    "        else:\n",
    "            print(\"not eligible\")\n",
    "\n",
    "    elif(gender in (\"femal\",\"f\")):\n",
    "        if(age>=18):\n",
    "            print(\"your eligible\")\n",
    "        else:\n",
    "            print(\"not eligible\")\n",
    "    else:\n",
    "        print(\"invalid data\")"
   ]
  },
  {
   "cell_type": "code",
   "execution_count": 11,
   "id": "a547fef6",
   "metadata": {},
   "outputs": [
    {
     "name": "stdout",
     "output_type": "stream",
     "text": [
      "enter your gender:male\n",
      "enter your age:20\n",
      "not eligible\n"
     ]
    }
   ],
   "source": [
    "eligible()"
   ]
  },
  {
   "cell_type": "code",
   "execution_count": 44,
   "id": "b6658da4",
   "metadata": {},
   "outputs": [],
   "source": [
    "class findpercentage():\n",
    "        def percentage():\n",
    "            a=int(input(\"subject1=\"))\n",
    "            b=int(input(\"subject2=\"))\n",
    "            c=int(input(\"subject3=\"))\n",
    "            d=int(input(\"subject4=\"))\n",
    "            e=int(input(\"subject5=\"))\n",
    "            sum=a+b+c+d+e\n",
    "            perc=(sum/500)*100\n",
    "            print(\"total=\",sum)\n",
    "            print(perc)\n",
    "\n"
   ]
  },
  {
   "cell_type": "code",
   "execution_count": 45,
   "id": "d42e8f42",
   "metadata": {},
   "outputs": [
    {
     "name": "stdout",
     "output_type": "stream",
     "text": [
      "subject1=98\n",
      "subject2=87\n",
      "subject3=95\n",
      "subject4=95\n",
      "subject5=93\n",
      "total= 468\n",
      "93.60000000000001\n"
     ]
    }
   ],
   "source": [
    "findpercentage.percentage()"
   ]
  },
  {
   "cell_type": "code",
   "execution_count": 46,
   "id": "1d19d2f5",
   "metadata": {},
   "outputs": [],
   "source": [
    "class triangle():\n",
    "        def triangle():  \n",
    "            h=int(input(\"height:\"))\n",
    "            b=int(input(\"breadth:\"))\n",
    "            areaoftriangle=(h*b)/2\n",
    "            print(areaoftriangle)\n",
    "        def perimeter():\n",
    "            h1=int(input(\"height1:\"))\n",
    "            h2=int(input(\"height2:\"))\n",
    "            b=int(input(\"breadth:\"))\n",
    "            perimeter=h1+h2+b\n",
    "            print(perimeter)\n",
    "\n"
   ]
  },
  {
   "cell_type": "code",
   "execution_count": 48,
   "id": "22712268",
   "metadata": {},
   "outputs": [
    {
     "name": "stdout",
     "output_type": "stream",
     "text": [
      "height1:2\n",
      "height2:4\n",
      "breadth:4\n",
      "10\n"
     ]
    }
   ],
   "source": [
    "triangle.perimeter()"
   ]
  },
  {
   "cell_type": "code",
   "execution_count": null,
   "id": "83f4bd97",
   "metadata": {},
   "outputs": [],
   "source": []
  }
 ],
 "metadata": {
  "kernelspec": {
   "display_name": "Python 3 (ipykernel)",
   "language": "python",
   "name": "python3"
  },
  "language_info": {
   "codemirror_mode": {
    "name": "ipython",
    "version": 3
   },
   "file_extension": ".py",
   "mimetype": "text/x-python",
   "name": "python",
   "nbconvert_exporter": "python",
   "pygments_lexer": "ipython3",
   "version": "3.11.5"
  }
 },
 "nbformat": 4,
 "nbformat_minor": 5
}
