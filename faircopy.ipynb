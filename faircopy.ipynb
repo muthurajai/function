{
 "cells": [
  {
   "cell_type": "code",
   "execution_count": 2,
   "id": "18d9ab3f",
   "metadata": {},
   "outputs": [],
   "source": [
    "from multiplefunction import checkoddeven"
   ]
  },
  {
   "cell_type": "code",
   "execution_count": 3,
   "id": "61587364",
   "metadata": {},
   "outputs": [
    {
     "name": "stdout",
     "output_type": "stream",
     "text": [
      "enter a number:42452\n",
      "42452 is even number"
     ]
    },
    {
     "data": {
      "text/plain": [
       "'even number'"
      ]
     },
     "execution_count": 3,
     "metadata": {},
     "output_type": "execute_result"
    }
   ],
   "source": [
    "checkoddeven.oddeven()"
   ]
  },
  {
   "cell_type": "code",
   "execution_count": 4,
   "id": "ad525925",
   "metadata": {},
   "outputs": [],
   "source": [
    "from multiplefunction import triangle"
   ]
  },
  {
   "cell_type": "code",
   "execution_count": 5,
   "id": "86507d61",
   "metadata": {},
   "outputs": [
    {
     "name": "stdout",
     "output_type": "stream",
     "text": [
      "height1:2\n",
      "height2:4\n",
      "breadth:4\n",
      "10\n"
     ]
    }
   ],
   "source": [
    "triangle.perimeter()"
   ]
  },
  {
   "cell_type": "code",
   "execution_count": null,
   "id": "625f9734",
   "metadata": {},
   "outputs": [],
   "source": []
  }
 ],
 "metadata": {
  "kernelspec": {
   "display_name": "Python 3 (ipykernel)",
   "language": "python",
   "name": "python3"
  },
  "language_info": {
   "codemirror_mode": {
    "name": "ipython",
    "version": 3
   },
   "file_extension": ".py",
   "mimetype": "text/x-python",
   "name": "python",
   "nbconvert_exporter": "python",
   "pygments_lexer": "ipython3",
   "version": "3.11.5"
  }
 },
 "nbformat": 4,
 "nbformat_minor": 5
}
