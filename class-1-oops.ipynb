{
 "cells": [
  {
   "cell_type": "code",
   "execution_count": 18,
   "id": "34f1fa8e",
   "metadata": {},
   "outputs": [],
   "source": [
    "class checkoddeven():\n",
    "        def oddeven():\n",
    "                num=int(input(\"enter a number:\"))\n",
    "                if(num%2)==1:\n",
    "                    print(num,end=\"is odd number\")\n",
    "                    message=\"odd number\"\n",
    "                else:\n",
    "                    print(num,end=\" is even number\")\n",
    "                    message=\"even number\"\n",
    "                return message"
   ]
  },
  {
   "cell_type": "code",
   "execution_count": 19,
   "id": "d3c16c15",
   "metadata": {},
   "outputs": [],
   "source": [
    "class sub():\n",
    "        def subfields():\n",
    "            print(\"sub_fields in AI are:\")\n",
    "            list=[\"mechine learning\",\"vision\",\"neural network\",\"robotics\",\"speech processing\",\"natural language processing\"]\n",
    "            for ai in list:\n",
    "                print(ai)"
   ]
  },
  {
   "cell_type": "code",
   "execution_count": 13,
   "id": "69decc51",
   "metadata": {},
   "outputs": [],
   "source": [
    "class findpercentage():\n",
    "        def percentage():\n",
    "            a=int(input(\"subject1=\"))\n",
    "            b=int(input(\"subject2=\"))\n",
    "            c=int(input(\"subject3=\"))\n",
    "            d=int(input(\"subject4=\"))\n",
    "            e=int(input(\"subject5=\"))\n",
    "            sum=a+b+c+d+e\n",
    "            perc=(sum/500)*100\n",
    "            print(\"total=\",sum)\n",
    "            print(perc)"
   ]
  },
  {
   "cell_type": "code",
   "execution_count": 22,
   "id": "2bfdd366",
   "metadata": {},
   "outputs": [],
   "source": [
    "class triangle():\n",
    "        def triangle():  \n",
    "            h=int(input(\"height:\"))\n",
    "            b=int(input(\"breadth:\"))\n",
    "            areaoftriangle=(h*b)/2\n",
    "            print(areaoftriangle)\n",
    "        def perimeter():\n",
    "            h1=int(input(\"height1:\"))\n",
    "            h2=int(input(\"height2:\"))\n",
    "            b=int(input(\"breadth:\"))\n",
    "            perimeter=h1+h2+b\n",
    "            print(perimeter)\n"
   ]
  },
  {
   "cell_type": "code",
   "execution_count": null,
   "id": "84f42f1f",
   "metadata": {},
   "outputs": [],
   "source": [
    "class findpercentage():\n",
    "        def percentage():\n",
    "            a=int(input(\"subject1=\"))\n",
    "            b=int(input(\"subject2=\"))\n",
    "            c=int(input(\"subject3=\"))\n",
    "            d=int(input(\"subject4=\"))\n",
    "            e=int(input(\"subject5=\"))\n",
    "            sum=a+b+c+d+e\n",
    "            perc=(sum/500)*100\n",
    "            print(\"total=\",sum)\n",
    "            print(perc)\n"
   ]
  }
 ],
 "metadata": {
  "kernelspec": {
   "display_name": "Python 3 (ipykernel)",
   "language": "python",
   "name": "python3"
  },
  "language_info": {
   "codemirror_mode": {
    "name": "ipython",
    "version": 3
   },
   "file_extension": ".py",
   "mimetype": "text/x-python",
   "name": "python",
   "nbconvert_exporter": "python",
   "pygments_lexer": "ipython3",
   "version": "3.11.5"
  }
 },
 "nbformat": 4,
 "nbformat_minor": 5
}
